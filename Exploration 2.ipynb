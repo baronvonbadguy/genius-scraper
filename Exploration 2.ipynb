{
 "cells": [
  {
   "cell_type": "code",
   "execution_count": 1,
   "metadata": {
    "collapsed": false
   },
   "outputs": [],
   "source": [
    "import numpy as np\n",
    "from tqdm import tqdm_notebook as tqdm"
   ]
  },
  {
   "cell_type": "markdown",
   "metadata": {},
   "source": [
    "## Preprocessing\n",
    "Here we're going to loop over all of the stored lyrics to itemize the features and producers (hereby referred to as *associates*).  \n",
    "\n",
    "We will store a tuple of two values for each artist-associate pair:\n",
    "1. The frequency of the associate within the artist's corpus\n",
    "2. The relative weight of that frequency (absolute / total associate count)\n",
    "\n",
    "First, we build a dictionary containing all of the lyric paths, organized by artist."
   ]
  },
  {
   "cell_type": "code",
   "execution_count": 2,
   "metadata": {
    "collapsed": false
   },
   "outputs": [],
   "source": [
    "from collections import defaultdict\n",
    "import os\n",
    "\n",
    "def grab_lyric_paths():\n",
    "    paths = defaultdict(list)\n",
    "    for artist in os.listdir('lyrics'):\n",
    "        artist_path = 'lyrics/{}'.format(artist)\n",
    "        if os.path.isdir(artist_path):\n",
    "            song_list = os.listdir(artist_path)\n",
    "            for song in song_list:\n",
    "                song_path = 'lyrics/{}/{}'.format(artist, song)\n",
    "                paths[artist].append(song_path)\n",
    "    return paths\n",
    "lyric_paths = grab_lyric_paths()"
   ]
  },
  {
   "cell_type": "markdown",
   "metadata": {},
   "source": [
    "Then we loop over those paths, and count the total number of songs for each artist."
   ]
  },
  {
   "cell_type": "code",
   "execution_count": 22,
   "metadata": {
    "collapsed": false
   },
   "outputs": [
    {
     "data": {
      "text/plain": [
       "[('Gucci Mane', 827),\n",
       " ('Lil Wayne', 703),\n",
       " ('Lil B', 670),\n",
       " ('Chief Keef', 507),\n",
       " ('Snoop Dogg', 504),\n",
       " ('The Game', 499),\n",
       " ('Chamillionaire', 461),\n",
       " ('E-40', 441),\n",
       " ('Chris Brown', 411),\n",
       " ('Busta Rhymes', 364)]"
      ]
     },
     "execution_count": 22,
     "metadata": {},
     "output_type": "execute_result"
    }
   ],
   "source": [
    "song_counts = dict()\n",
    "for artist in lyric_paths:\n",
    "    song_counts[artist] = len(lyric_paths[artist])\n",
    "top_ten_prolific_artists = sorted(song_counts.items(), key=lambda item: item[1], reverse=True)[:10]\n",
    "top_ten_prolific_artists"
   ]
  },
  {
   "cell_type": "markdown",
   "metadata": {},
   "source": [
    "> Note: Keep in mind that these numbers are biased towards artists that simply have more lyrics on the Genius platform.  These numbers will be pretty indicative of the \"real\" number of songs, but there are a few outliers, notably [Lil B](https://www.reddit.com/r/ThankYouBasedGod/comments/1wttyi/does_anyone_have_an_official_count_of_how_much/).  We're just gonna gloss over this, since tabulating the true number of songs by The Based God would amount to a wild-goose chase.\n",
    "> The other issue we face is one of duplicate lyrics posted to "
   ]
  },
  {
   "cell_type": "markdown",
   "metadata": {},
   "source": [
    "Let's make a function to itemize all of the producers and featured artists tied to an artist by looping over the artist's corpus and tallying up everyone they've worked with.\n",
    "\n",
    "> *Note*: In the case of producers, it's not exceptionally common to have them listed on the lyric page, especially unless they are a well known producer.  This is just part of the game."
   ]
  },
  {
   "cell_type": "code",
   "execution_count": 11,
   "metadata": {
    "collapsed": false
   },
   "outputs": [],
   "source": [
    "import json\n",
    "from collections import Counter, OrderedDict\n",
    "\n",
    "def process_associates(associates):\n",
    "    ass_counted = Counter(associates)\n",
    "    ass_sorted = sorted(ass_counted.items(), key=lambda item: item[1])[::-1]\n",
    "    max_weight = ass_sorted[0][1] if ass_sorted else 1\n",
    "    ass_weighted = [(i[0], (i[1], i[1] / max_weight)) for i in ass_sorted]\n",
    "    processed_associates = OrderedDict(ass_weighted)\n",
    "    return processed_associates\n",
    "\n",
    "def itemized_associates():\n",
    "    artists = defaultdict(dict)\n",
    "\n",
    "    for artist in tqdm(lyric_paths):\n",
    "        producers, features = list(), list()\n",
    "\n",
    "        for song_path in lyric_paths[artist]:\n",
    "            with open(song_path) as lfile:\n",
    "                lyric = json.load(lfile)\n",
    "                producers += lyric['pro'].get('producers', [])\n",
    "                features += lyric['pro'].get('features', [])\n",
    "\n",
    "        artists[artist]['producers'] = process_associates(producers)\n",
    "        artists[artist]['features'] = process_associates(producers)\n",
    "\n",
    "    return artists"
   ]
  },
  {
   "cell_type": "code",
   "execution_count": 12,
   "metadata": {
    "collapsed": false
   },
   "outputs": [
    {
     "name": "stdout",
     "output_type": "stream",
     "text": [
      "\n"
     ]
    }
   ],
   "source": [
    "artist_associates = itemized_associates()"
   ]
  },
  {
   "cell_type": "markdown",
   "metadata": {},
   "source": [
    "Before we proceed, let's grab a quick count of how many features each artist has."
   ]
  },
  {
   "cell_type": "code",
   "execution_count": null,
   "metadata": {
    "collapsed": true
   },
   "outputs": [],
   "source": [
    "feature_counts = dict()\n",
    "for artist, associates in artist_associates.items():\n",
    "    feature_counts[artist] = len(associates['features'])\n",
    "for artist, lyric_count in top_ten_prolific_artists:\n",
    "    comparison = "
   ]
  },
  {
   "cell_type": "markdown",
   "metadata": {},
   "source": [
    "Now that we have the associates tied to each artist, let's build a graph to connect them all together.  First up we will add each primary artist, then all associates, as nodes on the graph.  We will refer to the combined domain of objects as *entities*."
   ]
  },
  {
   "cell_type": "code",
   "execution_count": 15,
   "metadata": {
    "collapsed": false
   },
   "outputs": [],
   "source": [
    "import networkx as nx\n",
    "G = nx.Graph()"
   ]
  },
  {
   "cell_type": "code",
   "execution_count": 13,
   "metadata": {
    "collapsed": false
   },
   "outputs": [
    {
     "name": "stdout",
     "output_type": "stream",
     "text": [
      "7812: primary artists\n",
      "15468: entities after adding associates\n"
     ]
    }
   ],
   "source": [
    "all_entities = set(artist_associates.keys())\n",
    "print('{}: primary artists'.format(len(all_entities)))\n",
    "for associates in artist_associates.values():\n",
    "    features = set(associates['features'].keys())\n",
    "    producers = set(associates['producers'].keys())\n",
    "    comp = features.union(producers)\n",
    "    all_entities = all_entities.union(comp)\n",
    "print('{}: entities after adding associates'.format(len(all_entities)))"
   ]
  },
  {
   "cell_type": "code",
   "execution_count": 16,
   "metadata": {
    "collapsed": false
   },
   "outputs": [],
   "source": [
    "G.add_nodes_from(all_entities)"
   ]
  },
  {
   "cell_type": "markdown",
   "metadata": {},
   "source": [
    "Now we will add the edges between all entities, represented as the relationship between the primary artist and each associate."
   ]
  },
  {
   "cell_type": "code",
   "execution_count": 19,
   "metadata": {
    "collapsed": true
   },
   "outputs": [],
   "source": [
    "def iterate_feature_edges(artists):\n",
    "    for artist, associates in artists.items():\n",
    "        comp = dict(associates['producers'])\n",
    "        comp.update(associates['features'])\n",
    "        for feature in comp:\n",
    "            yield (artist, feature)"
   ]
  },
  {
   "cell_type": "code",
   "execution_count": 20,
   "metadata": {
    "collapsed": false
   },
   "outputs": [],
   "source": [
    "G.add_edges_from(iterate_feature_edges(artist_associates))"
   ]
  },
  {
   "cell_type": "code",
   "execution_count": 21,
   "metadata": {
    "collapsed": false
   },
   "outputs": [
    {
     "data": {
      "text/plain": [
       "['T-Minus',\n",
       " '\"Star/Pointro\" by The Roots',\n",
       " 'David Banner',\n",
       " 'Detail',\n",
       " 'Nascent',\n",
       " 'Mannie Fresh',\n",
       " 'Play-N-Skillz',\n",
       " 'The Runners',\n",
       " 'Mr. Pyro',\n",
       " 'Wale']"
      ]
     },
     "execution_count": 21,
     "metadata": {},
     "output_type": "execute_result"
    }
   ],
   "source": [
    "G.neighbors('Lil Wayne')[:10]"
   ]
  },
  {
   "cell_type": "markdown",
   "metadata": {
    "collapsed": true
   },
   "source": [
    "Now that we have a functioning graph, the first question I'd like to ask is simply which artist has the most connections? Given that we're currently only tracking breadth, this treats the associates as a set, rather than a collection.  We may add the frequency of the associated as weights later on."
   ]
  },
  {
   "cell_type": "code",
   "execution_count": 20,
   "metadata": {
    "collapsed": false
   },
   "outputs": [
    {
     "data": {
      "text/plain": [
       "[('Snoop Dogg', 423),\n",
       " ('The Game', 386),\n",
       " ('Lil Wayne', 379),\n",
       " ('E-40', 356),\n",
       " ('Busta Rhymes', 316),\n",
       " ('Chris Brown', 300),\n",
       " ('Rick Ross', 299),\n",
       " ('Gucci Mane', 295),\n",
       " ('T.I.', 292),\n",
       " ('Kanye West', 287)]"
      ]
     },
     "execution_count": 20,
     "metadata": {},
     "output_type": "execute_result"
    }
   ],
   "source": [
    "n_neighbors = dict()\n",
    "for artist in artists:\n",
    "    n_neighbors[artist] = len(G.neighbors(artist))\n",
    "sorted(n_neighbors.items(), key=lambda item: item[1], reverse=True)[:10]"
   ]
  },
  {
   "cell_type": "code",
   "execution_count": null,
   "metadata": {
    "collapsed": true
   },
   "outputs": [],
   "source": []
  }
 ],
 "metadata": {
  "anaconda-cloud": {},
  "kernelspec": {
   "display_name": "Python [Root]",
   "language": "python",
   "name": "Python [Root]"
  },
  "language_info": {
   "codemirror_mode": {
    "name": "ipython",
    "version": 3
   },
   "file_extension": ".py",
   "mimetype": "text/x-python",
   "name": "python",
   "nbconvert_exporter": "python",
   "pygments_lexer": "ipython3",
   "version": "3.5.1"
  }
 },
 "nbformat": 4,
 "nbformat_minor": 0
}
