{
 "metadata": {
  "name": "",
  "signature": "sha256:5c6157da0d11a21b3352a0d8053f6ec051c3521ae479ac860310cac549e8f1cd"
 },
 "nbformat": 3,
 "nbformat_minor": 0,
 "worksheets": [
  {
   "cells": [
    {
     "cell_type": "heading",
     "level": 1,
     "metadata": {
      "slideshow": {
       "slide_type": "slide"
      }
     },
     "source": [
      "Profiling Rappers with Lyrical Data from Genius"
     ]
    },
    {
     "cell_type": "markdown",
     "metadata": {},
     "source": [
      "I wrote this notebook to document my exploratory analysis on lyrical data scraped from the fine folks at [Genius]('http://www.genius.com') (previously RapGenius).  _ABOUT A WEEK AGOOOOO_, I started toying with ways to scrape an entire rapper's corpus, and it seemed pretty feasible even with no official Genius API available.\n",
      "\n",
      "After many design iterations, necessitated by a developing need to scrape many rappers' corpora with relative ease, I settled on a multithreaded pipeline design.  At each major segment in the process of data collection and parsing, exists a queue and a thread pool.  The queues for the steps are then chained together in a specific order. Each thread in each pool takes a job from it's respective (in)queue, processes it, and puts that result into the (out)queue for the next step's pool to intake.  This keeps the whole operation concurrent A.F. and allows the process to scale (presumably) pretty well.  I've used the Thread and Queue modules before, but this was the first case I was really impressed by the lack of boilerpate required in implimenting concurrency in Python.\n",
      "\n",
      "I used lxml for the html parsing, because BeautifulSoup, while elegantly designed, was going to be too slow for what I was going for.  For the lyric parsing and tagging I used regular expressions, because again, it's performant A.F."
     ]
    },
    {
     "cell_type": "markdown",
     "metadata": {},
     "source": [
      "These are the major toolkits and modules we'll be using"
     ]
    },
    {
     "cell_type": "code",
     "collapsed": false,
     "input": [
      "import matplotlib.pyplot as plt\n",
      "import pandas as pd\n",
      "import numpy as np\n",
      "import nltk\n",
      "import json"
     ],
     "language": "python",
     "metadata": {},
     "outputs": [],
     "prompt_number": 2
    },
    {
     "cell_type": "markdown",
     "metadata": {},
     "source": [
      "Lets start by choosing some artists to download lyrics for.  A good place to start is [Wikipedia](http://en.wikipedia.org/wiki/List_of_hip_hop_musicians).  I have downloaded the artist list on Feb. 1st 2015, and a copy is saved as wiki-list.json in the project's home directory.  Let's go ahead and load that."
     ]
    },
    {
     "cell_type": "code",
     "collapsed": false,
     "input": [
      "wiki_list = json.load(open('wiki-list.json', 'r'))\n",
      "wiki_list[:5] + wiki_list[-5:]"
     ],
     "language": "python",
     "metadata": {},
     "outputs": [
      {
       "metadata": {},
       "output_type": "pyout",
       "prompt_number": 6,
       "text": [
        "[u'100s',\n",
        " u'116 Clique',\n",
        " u'12 Gauge',\n",
        " u'2 Chainz',\n",
        " u'2 Live Crew',\n",
        " u'Z-Ro',\n",
        " u'Zane',\n",
        " u'Zaytoven',\n",
        " u'Zebra Katz',\n",
        " u'Zion I']"
       ]
      }
     ],
     "prompt_number": 6
    },
    {
     "cell_type": "markdown",
     "metadata": {},
     "source": [
      "Now this give's us a large list of rappers, roughly 1500+.  We could scrape the lyrics for all of these if we wanted to, and were patient enough to wait for something like 150k web requests to return, but I'm going to assume you're not that patient.  Let's be real here.\n",
      "\n",
      "In this case, we take the intersection of rappers on the wikipedia list of notables with the list of verified artists on the Genius [Verified Artists](http://rap.genius.com/verified-artists) page, which leaves us with a corpus of 200+ artists.  I'm making the assumption that artists who have verified profiles will have a fair amount of consistancy in the quality/accuracy of their lyrics.\n",
      "\n",
      "If you want an updated list of verified artists, run scraper.fetch_verified().  Keep in mind this will fetch verified artists from the entire genius network, so it will include artists that aren't rappers. Also, many gods of the game aren't going to be on the verified list because they're dead.  Also, this might take a bit; the calls to this Genius endpoint are not particularly speedy."
     ]
    },
    {
     "cell_type": "code",
     "collapsed": false,
     "input": [
      "from scraper import fetch_verified\n",
      "verified = fetch_verified()"
     ],
     "language": "python",
     "metadata": {},
     "outputs": []
    },
    {
     "cell_type": "markdown",
     "metadata": {},
     "source": [
      "Or, we can just load the version I grabbed on Feb. 1st 2015, included in the project folder."
     ]
    },
    {
     "cell_type": "code",
     "collapsed": false,
     "input": [
      "from tools import enc_str\n",
      "artists = {}\n",
      "with open('verified.json', 'r') as f:\n",
      "    verified_list = json.load(f)\n",
      "    v_set = {enc_str(v.lower()) for v in verified_list}\n",
      "    w_set = {enc_str(w.lower()) for w in wiki_list}\n",
      "    artists = set.intersection(v_set, w_set)"
     ],
     "language": "python",
     "metadata": {},
     "outputs": [],
     "prompt_number": 7
    },
    {
     "cell_type": "markdown",
     "metadata": {},
     "source": [
      "I have included the intersected wiki/verified list I used for your convenince.  Should save you the time it takes to scrape all 200+ pages of verified artists."
     ]
    },
    {
     "cell_type": "code",
     "collapsed": false,
     "input": [
      "rapper_list = json.load(open('rapper-list.json', 'r'))"
     ],
     "language": "python",
     "metadata": {},
     "outputs": [],
     "prompt_number": 8
    },
    {
     "cell_type": "markdown",
     "metadata": {},
     "source": [
      "Now that we have our list of artists for which we would like to download lyrics, let's go ahead and do that.  Keep in mind this will take around 30-60 minutes for the list of 200 rappers to download.  It just takes a while for thousands of webrequests to be made on a normal setup.\n",
      "\n",
      "The threadpool for the lyric downloading and parsing queue is limited to 10 threads, you may want to increase that to see if you get any increase in speed for your setup.  I did not do any testing to find out how many concurrent threads gave me the highest number of connections per second.\n",
      "\n",
      "If you don't want to wait for the scraper to download some data to play with, you can use the included lyrics.zip folder included in the project to follow along, just unzip the contents to a folder named lyrics/ in the project directory, and skip the next cell."
     ]
    },
    {
     "cell_type": "code",
     "collapsed": false,
     "input": [
      "from scraper import scrape\n",
      "scrape(artist_names=rapper_list)"
     ],
     "language": "python",
     "metadata": {},
     "outputs": []
    },
    {
     "cell_type": "markdown",
     "metadata": {},
     "source": [
      "This gives downloads all of the lyrics of songs an artist is on, featured or headlining.  Songs an artist is featured on gets filed under the song's primary artist in the 'lyrics/' directory.  Each artist file contains a dictionary of songs keyed by name, with a value of both the raw and processed lyrics.  Each entry in an artist file looks something like:\n",
      "\n",
      "```\n",
      "\"Pardon, That Bitch Been On My Mind All Week\": {\n",
      "    \"raw\": \"lots of unparsed text goes here\", \n",
      "    \"pro\": {\n",
      "        \"features\": [], \n",
      "        \"blocks\": {\n",
      "            \"verses\": [\n",
      "                {\n",
      "                    \"header\": \"\", \n",
      "                    \"text hash\": \"\", \n",
      "                    \"artist\": \"\", \n",
      "                    \"text\": \"\"\n",
      "                }\n",
      "            ], \n",
      "            \"hooks\": [], \n",
      "            \"remainders\": []\n",
      "        }, \n",
      "        \"order\": [], \n",
      "        \"artist\": \"\"\n",
      "    }\n",
      "}\n",
      "```"
     ]
    },
    {
     "cell_type": "markdown",
     "metadata": {},
     "source": [
      "This function loads all of the blocks in all of the artist files into one dictionary.  This flattening of the information is going to be how we access most of the data.  Each block in the db_flat has the hash of its lyrical text as the key, and a dict of the header, artist, and text as the values. Also, the nested structure of this codeblock looks quite silly."
     ]
    },
    {
     "cell_type": "code",
     "collapsed": false,
     "input": [
      "from os import path as osp\n",
      "import os\n",
      "from tools import ap\n",
      "\n",
      "def load_all_blocks(block_type=None):\n",
      "    db = dict()\n",
      "    for fp in os.listdir(ap('lyrics/')):\n",
      "        ab_fp = ap('lyrics/' + fp)\n",
      "        if osp.isfile(ab_fp):\n",
      "            with open(ab_fp, 'r') as f:\n",
      "                artist = json.load(f)\n",
      "                for song in artist.keys():\n",
      "                    for block_group in artist[song]['pro']['blocks'].keys():\n",
      "                        if not block_type or block_group in block_type:\n",
      "                            for block in artist[song]['pro']['blocks'][block_group]:\n",
      "                                db[block['text hash']] = {'artist': block['artist'],\n",
      "                                                          'text': block['text'], \n",
      "                                                          'type': block_group}\n",
      "    return db\n",
      "\n",
      "db_flat = load_all_blocks()\n",
      "\n",
      "lookup_blocks = lambda block_type: {k for k,v in db_flat.iteritems() if block_type in v['type']}\n",
      "lt_verses = lookup_blocks('verses')\n",
      "lt_hooks = lookup_blocks('hooks')\n",
      "\n",
      "print('loaded {} blocks into db'.format(len(db_flat.keys())))\n",
      "print('of which {} were verses and {} were hooks'.format(len(db_verses), len(db_hooks)))"
     ],
     "language": "python",
     "metadata": {},
     "outputs": [
      {
       "output_type": "stream",
       "stream": "stdout",
       "text": [
        "loaded 10222 blocks into db\n",
        "of which 6187 were verses and 1739 were hooks\n"
       ]
      }
     ],
     "prompt_number": 4
    },
    {
     "cell_type": "markdown",
     "metadata": {},
     "source": [
      "Now that we have the flattened database of all blocks, as well as separate db's for verses and hooks, let's make a lookup table of hash keys sorted by artist.  Ya boy loves lookup tables, and defaultdict makes grouped lookup tables super easy."
     ]
    },
    {
     "cell_type": "code",
     "collapsed": false,
     "input": [
      "from collections import defaultdict\n",
      "\n",
      "lt_artists = defaultdict(set)\n",
      "\n",
      "for k,v in db_flat.iteritems():\n",
      "    lt_artists[v['artist']].add(k)\n",
      "\n",
      "print('{} artists'.format(len(lt_artists)))\n",
      "lt_artists.keys()[:5] + lt_artists.keys()[-5:]"
     ],
     "language": "python",
     "metadata": {},
     "outputs": [
      {
       "output_type": "stream",
       "stream": "stdout",
       "text": [
        "1306 artists\n"
       ]
      },
      {
       "metadata": {},
       "output_type": "pyout",
       "prompt_number": 11,
       "text": [
        "[u'Ice T \"Grand Larceny\"',\n",
        " u'Reality Allah',\n",
        " u'Leaf',\n",
        " u'Masta Ace',\n",
        " u'Chico DeBarge',\n",
        " u'Run-D.M.C.',\n",
        " u'DJ Quik',\n",
        " u'Emilio Lopez',\n",
        " u'Zeus',\n",
        " u'8th']"
       ]
      }
     ],
     "prompt_number": 11
    },
    {
     "cell_type": "markdown",
     "metadata": {},
     "source": [
      "Let's filter out artists in our table that have fewer than 10 blocks.  This will give us a much more reasonable number of artists."
     ]
    },
    {
     "cell_type": "code",
     "collapsed": false,
     "input": [
      "lt_artists = {k:v for k,v in lt_artists.iteritems() if len(v) > 10}\n",
      "print('{} artists retained'.format(len(lt_artists)))"
     ],
     "language": "python",
     "metadata": {},
     "outputs": [
      {
       "output_type": "stream",
       "stream": "stdout",
       "text": [
        "119 artists retained\n"
       ]
      }
     ],
     "prompt_number": 14
    },
    {
     "cell_type": "markdown",
     "metadata": {},
     "source": [
      "So we're left with roughly 10% of the original amount of artists.  This makes sense, since the vast majority of artists only have a few blocks tied to their name. They were most likely only included because one of our searched artists featured on their track.  This will also filter out false positives for the artist tag made by the parser, due to inconsistencies in the community-generated lyrics of Genius.  \n",
      "\n",
      "Now that we have or data sorted and cleaned, and we have our primary lookup tables generated, time for some fun!  Let's start with a unique word count for each artist."
     ]
    },
    {
     "cell_type": "code",
     "collapsed": false,
     "input": [
      "corpora = defaultdict(set)\n",
      "for artist, block_ids in lt_artists.iteritems():\n",
      "    for block_id in block_ids:\n",
      "        corpora[artist].union(set(nltk.word_tokenize(db_flat[block_id]['text'])))\n",
      "freq = {k: nltk.FreqDist(v) for k,v in corpora.iteritems()}\n",
      "unique = {k: len(v.keys()) for k,v in freq.iteritems()}\n",
      "freq"
     ],
     "language": "python",
     "metadata": {},
     "outputs": [
      {
       "metadata": {},
       "output_type": "pyout",
       "prompt_number": 35,
       "text": [
        "{u'2 Chainz': FreqDist({}),\n",
        " u'50 Cent': FreqDist({}),\n",
        " u'A$ton Matthews': FreqDist({}),\n",
        " u'A-Plus': FreqDist({}),\n",
        " u'Ace Hood': FreqDist({}),\n",
        " u'Action Bronson': FreqDist({}),\n",
        " u'Apathy': FreqDist({}),\n",
        " u'Army Of The Pharaohs': FreqDist({}),\n",
        " u'Big Noyd': FreqDist({}),\n",
        " u'Blacastan': FreqDist({}),\n",
        " u'Brand Nubian': FreqDist({}),\n",
        " u'Busta Rhymes': FreqDist({}),\n",
        " u'Cappadonna': FreqDist({}),\n",
        " u'Carlton Fisk': FreqDist({}),\n",
        " u'Celph Titled': FreqDist({}),\n",
        " u'Chinx Drugz': FreqDist({}),\n",
        " u'Common': FreqDist({}),\n",
        " u'Dead Prez': FreqDist({}),\n",
        " u'Demigodz': FreqDist({}),\n",
        " u'Diddy': FreqDist({}),\n",
        " u'Drake': FreqDist({}),\n",
        " u'Emilio Lopez': FreqDist({}),\n",
        " u'Eminem': FreqDist({}),\n",
        " u'Esoteric': FreqDist({}),\n",
        " u'Fabolous': FreqDist({}),\n",
        " u'Fat Joe': FreqDist({}),\n",
        " u'French Montana': FreqDist({}),\n",
        " u'Future': FreqDist({}),\n",
        " u'Game': FreqDist({}),\n",
        " u'Ghostface Killah': FreqDist({}),\n",
        " u'Gucci Mane': FreqDist({}),\n",
        " u'Havoc': FreqDist({}),\n",
        " u'House Gang Animalz': FreqDist({}),\n",
        " u'Infamous Mobb': FreqDist({}),\n",
        " u'Inspectah Deck': FreqDist({}),\n",
        " u'Jadakiss': FreqDist({}),\n",
        " u'Jeezy': FreqDist({}),\n",
        " u'Jennifer Lopez': FreqDist({}),\n",
        " u'Jeremih': FreqDist({}),\n",
        " u'Jinusean': FreqDist({}),\n",
        " u'Joey BADA$$': FreqDist({}),\n",
        " u'Juicy J': FreqDist({}),\n",
        " u'Kanye West': FreqDist({}),\n",
        " u'Kelly Rowland': FreqDist({}),\n",
        " u'Kidd Kidd': FreqDist({}),\n",
        " u'LL Cool J': FreqDist({}),\n",
        " u'Lil B': FreqDist({}),\n",
        " u'Lil B)': FreqDist({}),\n",
        " u'Lil Durk': FreqDist({}),\n",
        " u'Lil Wayne': FreqDist({}),\n",
        " u'Lloyd Banks': FreqDist({}),\n",
        " u'Lord Jamar': FreqDist({}),\n",
        " u'Louis Logic': FreqDist({}),\n",
        " u'Ludacris': FreqDist({}),\n",
        " u'Mary J. Blige': FreqDist({}),\n",
        " u'Masta Killa': FreqDist({}),\n",
        " u'Max B': FreqDist({}),\n",
        " u'Meek Mill': FreqDist({}),\n",
        " u'Method Man': FreqDist({}),\n",
        " u'Meyhem Lauren': FreqDist({}),\n",
        " u'Migos': FreqDist({}),\n",
        " u'Mobb Deep': FreqDist({}),\n",
        " u'Motive': FreqDist({}),\n",
        " u'Mr. Complex': FreqDist({}),\n",
        " u'N.O.R.E.': FreqDist({}),\n",
        " u'Nas': FreqDist({}),\n",
        " u'Nicki Minaj': FreqDist({}),\n",
        " u'O.G.C.': FreqDist({}),\n",
        " u'Offset': FreqDist({}),\n",
        " u'Omarion': FreqDist({}),\n",
        " u'Opio': FreqDist({}),\n",
        " u'PeeWee Longway': FreqDist({}),\n",
        " u'Pharoahe Monch': FreqDist({}),\n",
        " u'Phesto': FreqDist({}),\n",
        " u'Planetary': FreqDist({}),\n",
        " u'Power': FreqDist({}),\n",
        " u'Prodigy': FreqDist({}),\n",
        " u'Pusha T': FreqDist({}),\n",
        " u'Quavo': FreqDist({}),\n",
        " u'Raekwon': FreqDist({}),\n",
        " u'Rap Genius': FreqDist({}),\n",
        " u'Ray J': FreqDist({}),\n",
        " u'Red Cafe': FreqDist({}),\n",
        " u'Rich The Kid': FreqDist({}),\n",
        " u'Rick Ross': FreqDist({}),\n",
        " u'Roc Marciano': FreqDist({}),\n",
        " u'Ron Isley': FreqDist({}),\n",
        " u'Ryu': FreqDist({}),\n",
        " u'Sample': FreqDist({}),\n",
        " u'Sheek Louch': FreqDist({}),\n",
        " u'Snoop Dogg': FreqDist({}),\n",
        " u'Snow Tha Product': FreqDist({}),\n",
        " u'Soulja Boy': FreqDist({}),\n",
        " u'Souls Of Mischief': FreqDist({}),\n",
        " u'Streetlife': FreqDist({}),\n",
        " u'Styles P': FreqDist({}),\n",
        " u'Styles of Beyond': FreqDist({}),\n",
        " u'Swizz Beatz': FreqDist({}),\n",
        " u'T.I.': FreqDist({}),\n",
        " u'Tajai': FreqDist({}),\n",
        " u'Takeoff': FreqDist({}),\n",
        " u'Talib Kweli': FreqDist({}),\n",
        " u'The Notorious B.I.G.': FreqDist({}),\n",
        " u'Tony Yayo': FreqDist({}),\n",
        " u'Trey Songz': FreqDist({}),\n",
        " u'Ty Dolla $ign': FreqDist({}),\n",
        " u'Tyga': FreqDist({}),\n",
        " u'U-God': FreqDist({}),\n",
        " u'Usher': FreqDist({}),\n",
        " u'Vado': FreqDist({}),\n",
        " u'Vince Staples': FreqDist({}),\n",
        " u'Vinnie Paz': FreqDist({}),\n",
        " u'Wale': FreqDist({}),\n",
        " u'Wiz Khalifa': FreqDist({}),\n",
        " u'YG': FreqDist({}),\n",
        " u'Yo Gotti': FreqDist({}),\n",
        " u'Young Buck': FreqDist({}),\n",
        " u'Young Thug': FreqDist({}),\n",
        " u'repeat 2X': FreqDist({})}"
       ]
      }
     ],
     "prompt_number": 35
    },
    {
     "cell_type": "code",
     "collapsed": false,
     "input": [
      "freq"
     ],
     "language": "python",
     "metadata": {},
     "outputs": [
      {
       "metadata": {},
       "output_type": "pyout",
       "prompt_number": 37,
       "text": [
        "{u'2 Chainz': FreqDist({}),\n",
        " u'50 Cent': FreqDist({}),\n",
        " u'A$ton Matthews': FreqDist({}),\n",
        " u'A-Plus': FreqDist({}),\n",
        " u'Ace Hood': FreqDist({}),\n",
        " u'Action Bronson': FreqDist({}),\n",
        " u'Apathy': FreqDist({}),\n",
        " u'Army Of The Pharaohs': FreqDist({}),\n",
        " u'Big Noyd': FreqDist({}),\n",
        " u'Blacastan': FreqDist({}),\n",
        " u'Brand Nubian': FreqDist({}),\n",
        " u'Busta Rhymes': FreqDist({}),\n",
        " u'Cappadonna': FreqDist({}),\n",
        " u'Carlton Fisk': FreqDist({}),\n",
        " u'Celph Titled': FreqDist({}),\n",
        " u'Chinx Drugz': FreqDist({}),\n",
        " u'Common': FreqDist({}),\n",
        " u'Dead Prez': FreqDist({}),\n",
        " u'Demigodz': FreqDist({}),\n",
        " u'Diddy': FreqDist({}),\n",
        " u'Drake': FreqDist({}),\n",
        " u'Emilio Lopez': FreqDist({}),\n",
        " u'Eminem': FreqDist({}),\n",
        " u'Esoteric': FreqDist({}),\n",
        " u'Fabolous': FreqDist({}),\n",
        " u'Fat Joe': FreqDist({}),\n",
        " u'French Montana': FreqDist({}),\n",
        " u'Future': FreqDist({}),\n",
        " u'Game': FreqDist({}),\n",
        " u'Ghostface Killah': FreqDist({}),\n",
        " u'Gucci Mane': FreqDist({}),\n",
        " u'Havoc': FreqDist({}),\n",
        " u'House Gang Animalz': FreqDist({}),\n",
        " u'Infamous Mobb': FreqDist({}),\n",
        " u'Inspectah Deck': FreqDist({}),\n",
        " u'Jadakiss': FreqDist({}),\n",
        " u'Jeezy': FreqDist({}),\n",
        " u'Jennifer Lopez': FreqDist({}),\n",
        " u'Jeremih': FreqDist({}),\n",
        " u'Jinusean': FreqDist({}),\n",
        " u'Joey BADA$$': FreqDist({}),\n",
        " u'Juicy J': FreqDist({}),\n",
        " u'Kanye West': FreqDist({}),\n",
        " u'Kelly Rowland': FreqDist({}),\n",
        " u'Kidd Kidd': FreqDist({}),\n",
        " u'LL Cool J': FreqDist({}),\n",
        " u'Lil B': FreqDist({}),\n",
        " u'Lil B)': FreqDist({}),\n",
        " u'Lil Durk': FreqDist({}),\n",
        " u'Lil Wayne': FreqDist({}),\n",
        " u'Lloyd Banks': FreqDist({}),\n",
        " u'Lord Jamar': FreqDist({}),\n",
        " u'Louis Logic': FreqDist({}),\n",
        " u'Ludacris': FreqDist({}),\n",
        " u'Mary J. Blige': FreqDist({}),\n",
        " u'Masta Killa': FreqDist({}),\n",
        " u'Max B': FreqDist({}),\n",
        " u'Meek Mill': FreqDist({}),\n",
        " u'Method Man': FreqDist({}),\n",
        " u'Meyhem Lauren': FreqDist({}),\n",
        " u'Migos': FreqDist({}),\n",
        " u'Mobb Deep': FreqDist({}),\n",
        " u'Motive': FreqDist({}),\n",
        " u'Mr. Complex': FreqDist({}),\n",
        " u'N.O.R.E.': FreqDist({}),\n",
        " u'Nas': FreqDist({}),\n",
        " u'Nicki Minaj': FreqDist({}),\n",
        " u'O.G.C.': FreqDist({}),\n",
        " u'Offset': FreqDist({}),\n",
        " u'Omarion': FreqDist({}),\n",
        " u'Opio': FreqDist({}),\n",
        " u'PeeWee Longway': FreqDist({}),\n",
        " u'Pharoahe Monch': FreqDist({}),\n",
        " u'Phesto': FreqDist({}),\n",
        " u'Planetary': FreqDist({}),\n",
        " u'Power': FreqDist({}),\n",
        " u'Prodigy': FreqDist({}),\n",
        " u'Pusha T': FreqDist({}),\n",
        " u'Quavo': FreqDist({}),\n",
        " u'Raekwon': FreqDist({}),\n",
        " u'Rap Genius': FreqDist({}),\n",
        " u'Ray J': FreqDist({}),\n",
        " u'Red Cafe': FreqDist({}),\n",
        " u'Rich The Kid': FreqDist({}),\n",
        " u'Rick Ross': FreqDist({}),\n",
        " u'Roc Marciano': FreqDist({}),\n",
        " u'Ron Isley': FreqDist({}),\n",
        " u'Ryu': FreqDist({}),\n",
        " u'Sample': FreqDist({}),\n",
        " u'Sheek Louch': FreqDist({}),\n",
        " u'Snoop Dogg': FreqDist({}),\n",
        " u'Snow Tha Product': FreqDist({}),\n",
        " u'Soulja Boy': FreqDist({}),\n",
        " u'Souls Of Mischief': FreqDist({}),\n",
        " u'Streetlife': FreqDist({}),\n",
        " u'Styles P': FreqDist({}),\n",
        " u'Styles of Beyond': FreqDist({}),\n",
        " u'Swizz Beatz': FreqDist({}),\n",
        " u'T.I.': FreqDist({}),\n",
        " u'Tajai': FreqDist({}),\n",
        " u'Takeoff': FreqDist({}),\n",
        " u'Talib Kweli': FreqDist({}),\n",
        " u'The Notorious B.I.G.': FreqDist({}),\n",
        " u'Tony Yayo': FreqDist({}),\n",
        " u'Trey Songz': FreqDist({}),\n",
        " u'Ty Dolla $ign': FreqDist({}),\n",
        " u'Tyga': FreqDist({}),\n",
        " u'U-God': FreqDist({}),\n",
        " u'Usher': FreqDist({}),\n",
        " u'Vado': FreqDist({}),\n",
        " u'Vince Staples': FreqDist({}),\n",
        " u'Vinnie Paz': FreqDist({}),\n",
        " u'Wale': FreqDist({}),\n",
        " u'Wiz Khalifa': FreqDist({}),\n",
        " u'YG': FreqDist({}),\n",
        " u'Yo Gotti': FreqDist({}),\n",
        " u'Young Buck': FreqDist({}),\n",
        " u'Young Thug': FreqDist({}),\n",
        " u'repeat 2X': FreqDist({})}"
       ]
      }
     ],
     "prompt_number": 37
    },
    {
     "cell_type": "code",
     "collapsed": false,
     "input": [
      "unique_counts = {k:len(v) for k,v in unique.iteritems()}\n",
      "[len(x) for x in unique.values()[:3]]"
     ],
     "language": "python",
     "metadata": {},
     "outputs": [
      {
       "metadata": {},
       "output_type": "pyout",
       "prompt_number": 25,
       "text": [
        "[0, 0, 0]"
       ]
      }
     ],
     "prompt_number": 25
    },
    {
     "cell_type": "code",
     "collapsed": false,
     "input": [
      "words_sorted = sorted(words_dict, key=words_dict.get, reverse=True)\n",
      "words_sorted = [word.replace('\\n', '') for word in words_sorted]\n",
      "df = pd.DataFrame(words_sorted, columns=['word'])\n",
      "df['freq'] = [int(words_dict[word]) for word in words_sorted]\n",
      "df['len'] = [int(len(word)) for word in words_sorted]\n",
      "df = df[(df.len < 20)]\n",
      "x, y = df['len'], df['freq']\n",
      "# Set the ticks and labels...\n",
      "ticks = np.arange(0, max(x), 1)\n",
      "labels = range(ticks.size)\n",
      "plt.xticks(ticks, labels)\n",
      "plt.xlabel('Word Length')\n",
      "plt.ylabel('Word Frequency')\n",
      "plt.scatter(x, y)"
     ],
     "language": "python",
     "metadata": {},
     "outputs": [
      {
       "metadata": {},
       "output_type": "pyout",
       "prompt_number": 14,
       "text": [
        "<matplotlib.collections.PathCollection at 0x7f3d02190250>"
       ]
      },
      {
       "metadata": {},
       "output_type": "display_data",
       "png": "[encoded data removed]",
       "text": [
        "<matplotlib.figure.Figure at 0x7f3d14bff2d0>"
       ]
      }
     ],
     "prompt_number": 14
    }
   ],
   "metadata": {}
  }
 ]
}