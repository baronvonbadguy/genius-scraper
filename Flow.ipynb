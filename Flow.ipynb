{
 "cells": [
  {
   "cell_type": "markdown",
   "metadata": {},
   "source": [
    "### References\n",
    "- http://mtosmt.org/issues/mto.17.23.4/mto.17.23.4.komaniecki.html\n",
    "  - Rhyming groups are set in similar metrical locations.\n",
    "  - Rhyming groups are set to similar rhythmic figures.\n",
    "  - Rhyming groups are emphasized or articulated in similar ways.\n",
    "- https://pdfs.semanticscholar.org/8b66/ea2b1fdc0d7df782545886930ddac0daa1de.pdf"
   ]
  },
  {
   "cell_type": "markdown",
   "metadata": {},
   "source": [
    "# Mapping Flow"
   ]
  },
  {
   "cell_type": "code",
   "execution_count": 1,
   "metadata": {},
   "outputs": [
    {
     "name": "stdout",
     "output_type": "stream",
     "text": [
      "Eminem-and-dj-buttafingaz.mpk\r\n",
      "Eminem-ft-logic-joyner-lucas-nitin-randhawa-remix.mpk\r\n",
      "Eminem.mpk\r\n",
      "Eminem-x-proof.mpk\r\n"
     ]
    }
   ],
   "source": [
    "!ls lyrics_consolidated/ | grep Eminem"
   ]
  },
  {
   "cell_type": "code",
   "execution_count": 2,
   "metadata": {
    "scrolled": true
   },
   "outputs": [],
   "source": [
    "import msgpack\n",
    "from random import choice\n",
    "from pprint import pprint as pp\n",
    "\n",
    "lyric = ''\n",
    "with open('lyrics_consolidated/Pharoahe-monch.mpk', 'rb') as lyric:\n",
    "    corp = msgpack.unpack(lyric, encoding='utf-8')\n",
    "    lyric = corp['Pharoahe-monch-simon-says-lyrics']['lyrics']"
   ]
  },
  {
   "cell_type": "code",
   "execution_count": 3,
   "metadata": {},
   "outputs": [],
   "source": [
    "def get_phones(text, stress=True):\n",
    "    if isinstance(text, str):\n",
    "        text = [text]\n",
    "    phoned = []\n",
    "    for word in text:\n",
    "        phones = pronouncing.phones_for_word(word)        \n",
    "        # lots of words in genius are listed as being\n",
    "        # pronounced as 'in' instead of the formal\n",
    "        # 'ing' spelling that is in the cmu data\n",
    "        # and needs modification to correct\n",
    "        if not phones and re.search('in\\'?$', word):\n",
    "            subbed = re.sub(r'in\\'?', 'ing', word)\n",
    "            with_g = pronouncing.phones_for_word(subbed)\n",
    "            if with_g:\n",
    "                # convert the 'ng' phenomes to 'n'\n",
    "                without_g = re.sub(r'(?<=IH\\d) (NG)$', ' N', with_g[0])\n",
    "                phones = without_g\n",
    "        # some words start with an apostraphy and might not\n",
    "        # be listed in the cmu as such\n",
    "        elif not phones and re.search(\"^['`‘]\", word):\n",
    "            without_apo = pronouncing.phones_for_word(word[1:])\n",
    "            if without_apo:\n",
    "                phones = without_apo[0]\n",
    "        # we don't need nested lists\n",
    "        elif phones:\n",
    "            phones = phones[0]\n",
    "        # fallback to just the word if not found in cmu\n",
    "        else:\n",
    "            phones = word\n",
    "        # the numbers after a phenome are useful for determining\n",
    "        # stresses and syllables within words, but aren't that\n",
    "        # useful for comparing sounds themselves (rhymes)\n",
    "        if not stress and phones:\n",
    "            phones = re.sub('\\d*', '', phones)\n",
    "        phoned.append(phones)\n",
    "    return phoned"
   ]
  },
  {
   "cell_type": "code",
   "execution_count": 4,
   "metadata": {},
   "outputs": [],
   "source": [
    "import re\n",
    "from colorama import Fore, Style\n",
    "import pronouncing\n",
    "\n",
    "def red_if_not_found(word):\n",
    "    # color words not found in the cmu as red for further review\n",
    "    # of pre-processing steps\n",
    "    if get_phones(word)[0] == word:\n",
    "        return Fore.RED + word + Fore.BLACK\n",
    "    return word\n",
    "\n",
    "def process_line(line):\n",
    "    words = []\n",
    "    # remove adlibs\n",
    "    line = re.sub('\\(.+?\\)', '', line)\n",
    "    # split words delimited by either spaces or commas\n",
    "    for word in re.split('[ ,]', line):\n",
    "        # strip out lots of characters we don't want for our\n",
    "        # word analysis, but keep apostrophies\n",
    "        stripped = re.sub(r\"(^'|'$|[;\\?\\!\\n \\t\\\"\\:]|\\.+|\\…)+\", '', word)\n",
    "        # convert a hyphenated word into multiple words\n",
    "        words += re.split(r\"[-–—]\", stripped)\n",
    "    no_blanks = list(filter(None, words))\n",
    "    return no_blanks\n",
    "\n",
    "def process_lyrics(lyrics, colorizer=None):\n",
    "    processed = []\n",
    "    for line in lyrics:\n",
    "        proc_line = []\n",
    "        # filter out song block headers that can span multiple lines\n",
    "        opened = re.search('^\\[', line)\n",
    "        closed = re.search('\\]$', line)\n",
    "        if opened:\n",
    "            bracket_open = True\n",
    "        if bracket_open:\n",
    "            if closed:\n",
    "                bracket_open = False\n",
    "            continue\n",
    "        for word in process_line(line):\n",
    "            if colorizer:\n",
    "                word = colorizer(word)\n",
    "            proc_line.append(word)\n",
    "        if proc_line:\n",
    "            processed.append(proc_line)\n",
    "    return processed"
   ]
  },
  {
   "cell_type": "code",
   "execution_count": 5,
   "metadata": {
    "scrolled": false
   },
   "outputs": [
    {
     "name": "stdout",
     "output_type": "stream",
     "text": [
      "Uh uh uh uh uh uh\n",
      "Uh uh uh uh uh\n",
      "Uh uh uh uh uh uh\n",
      "Uh uh uh uh \u001b[31mahhh\u001b[30m\n",
      "Get the fuck up\n",
      "Simon says Get the fuck up\n",
      "Throw your hands in the sky\n",
      "Queens is in the back sipping \u001b[31mgnac\u001b[30m y'all what's up\n",
      "Girls rub on your \u001b[31mtitties\u001b[30m\n",
      "Yeah I said it rub on your \u001b[31mtitties\u001b[30m\n",
      "New York City gritty committee pity the fool\n",
      "That act shitty in the midst of the calm the witty\n",
      "Y'all know the name\n",
      "\u001b[31mPharoahe\u001b[30m fuckin \u001b[31mMonch\u001b[30m ain't a damn thing changed\n",
      "You all up in ya Range and shit inebriated\n",
      "Strayed from your original plan you deviated\n",
      "I alleviated the pain with long term goals\n",
      "Took my underground loot without the gold\n",
      "You sold platinum round the world I sold wood in the hood\n",
      "But when I'm in the street and shit it's all good\n",
      "I'm soon to motivate a room control the game like Tomb Raider\n",
      "Rock clock dollars flip tips like a waiter\n",
      "Block shots \u001b[31mstyle's\u001b[30m greater let my lyrics anoint\n",
      "If you holding up the wall then you missin the point\n",
      "Get the fuck up\n",
      "Simon says Get the fuck up\n",
      "Put your hands to the sky\n",
      "Brooklyn in the back shooting craps now what's up\n",
      "\u001b[31mGirlies\u001b[30m rub on your \u001b[31mtitties\u001b[30m\n",
      "Yeah fuck it I said rub on your \u001b[31mtitties\u001b[30m\n",
      "New York City gritty committee pity the fool\n",
      "That act shitty in the midst of the calm the witty\n",
      "Yo where you at Uptown let me see em\n",
      "Notorious for the six fives and the \u001b[31mBMs\u001b[30m\n",
      "Heads give you beef you put em in the mausoleum\n",
      "And shit don't start pumping til after \u001b[31m12pm\u001b[30m\n",
      "Uh ignorant minds I free em\n",
      "If you tired of the same old everyday you will agree\n",
      "I'm the most obligated hard and R rated\n",
      "Slated to be the best I must confess the star made it\n",
      "Some might even say this song is sexist es\n",
      "Cause I asked the girls to rub on their breast \u001b[31meses\u001b[30m\n",
      "Whether you're riding the train or a Lexus es\n",
      "This is for either or \u001b[31mRollies\u001b[30m or Timex \u001b[31meses\u001b[30m\n",
      "Wicked like\n",
      "Exorcist\n",
      "this is the joint\n",
      "You holding up the wall then you missing the point\n",
      "Get the fuck up\n",
      "Simon says Get the fuck up\n",
      "Throw your hands in the sky\n",
      "The Bronx is in the back shooting craps now what's up\n",
      "Girls rub on your \u001b[31mtitties\u001b[30m\n",
      "I said rub on your \u001b[31mtitties\u001b[30m\n",
      "New York City gritty committee pity the fool\n",
      "That act shitty in the midst of the calm the witty\n",
      "New \u001b[31mJeru\u001b[30m\n",
      "Shaolin\n",
      "Long Isle\n",
      "Worldwide\n"
     ]
    }
   ],
   "source": [
    "processed = process_lyrics(lyric, colorizer=red_if_not_found)\n",
    "for line in processed:\n",
    "    print(' '.join(line))"
   ]
  },
  {
   "cell_type": "code",
   "execution_count": 6,
   "metadata": {},
   "outputs": [],
   "source": [
    "def syllabize(line):\n",
    "    bricks = []\n",
    "    for word in process_line(line):\n",
    "        phones = get_phones(word, stress=True)[0]\n",
    "        count = pronouncing.syllable_count(phones)\n",
    "        bricks.append((word, count, phones))\n",
    "    return bricks\n",
    "\n",
    "def pad_brick(brick):\n",
    "    padding = max([len(str(b)) for b in brick])\n",
    "    pad = lambda x: str(x).ljust(padding, ' ')\n",
    "    brick = [pad(b) for b in brick]\n",
    "    return brick"
   ]
  },
  {
   "cell_type": "code",
   "execution_count": 7,
   "metadata": {
    "scrolled": true
   },
   "outputs": [
    {
     "ename": "TypeError",
     "evalue": "'int' object is not iterable",
     "output_type": "error",
     "traceback": [
      "\u001b[0;31m---------------------------------------------------------------------------\u001b[0m",
      "\u001b[0;31mTypeError\u001b[0m                                 Traceback (most recent call last)",
      "\u001b[0;32m<ipython-input-7-fdcb55556f5f>\u001b[0m in \u001b[0;36m<module>\u001b[0;34m\u001b[0m\n\u001b[1;32m     29\u001b[0m         \u001b[0mfiltered_lines\u001b[0m\u001b[0;34m.\u001b[0m\u001b[0mappend\u001b[0m\u001b[0;34m(\u001b[0m\u001b[0mfiltered\u001b[0m\u001b[0;34m)\u001b[0m\u001b[0;34m\u001b[0m\u001b[0m\n\u001b[1;32m     30\u001b[0m         \u001b[0;32mfor\u001b[0m \u001b[0mf\u001b[0m \u001b[0;32min\u001b[0m \u001b[0mfiltered\u001b[0m\u001b[0;34m:\u001b[0m\u001b[0;34m\u001b[0m\u001b[0m\n\u001b[0;32m---> 31\u001b[0;31m             \u001b[0mbank\u001b[0m\u001b[0;34m[\u001b[0m\u001b[0mf\u001b[0m\u001b[0;34m]\u001b[0m \u001b[0;34m+=\u001b[0m \u001b[0;36m1\u001b[0m\u001b[0;34m\u001b[0m\u001b[0m\n\u001b[0m\u001b[1;32m     32\u001b[0m     \u001b[0mfound_rhymes\u001b[0m \u001b[0;34m=\u001b[0m \u001b[0;34m[\u001b[0m\u001b[0;34m]\u001b[0m\u001b[0;34m\u001b[0m\u001b[0m\n\u001b[1;32m     33\u001b[0m     \u001b[0;32mfor\u001b[0m \u001b[0mpl\u001b[0m \u001b[0;32min\u001b[0m \u001b[0mfiltered_lines\u001b[0m\u001b[0;34m:\u001b[0m\u001b[0;34m\u001b[0m\u001b[0m\n",
      "\u001b[0;31mTypeError\u001b[0m: 'int' object is not iterable"
     ]
    }
   ],
   "source": [
    "from collections import defaultdict\n",
    "rhymes = defaultdict(list)\n",
    "processed = process_lyrics(lyric)\n",
    "found = []\n",
    "for i, line in enumerate(processed):\n",
    "    # for the first line we compare it to the next line\n",
    "    if i == 0:\n",
    "        lines = processed[:2]\n",
    "    # for the last line we compare it to the previous\n",
    "    elif i == len(processed) - 1:\n",
    "        lines = processed[-2:-1]\n",
    "    # for all other lines we compare to the previous\n",
    "    # and the next line\n",
    "    else:\n",
    "        lines = processed[i-1:i+2]\n",
    "    phone_lines = [get_phones(l, stress=True) for l in lines]\n",
    "    filtered_lines = []\n",
    "    bank = defaultdict(int)\n",
    "    for pl in phone_lines:\n",
    "        rp = pronouncing.rhyming_part\n",
    "        try:\n",
    "            rhyming_phones = [rp(word) for word in pl]\n",
    "        except BaseException as e:\n",
    "            print(word, type(word), e)\n",
    "        # remove middle constonants which don't have\n",
    "        # much to do with loose rhyming\n",
    "        nix_const = lambda x: re.sub('( \\w |\\d)+', ' ', x).strip().replace('  ', ' ')\n",
    "        filtered = list(map(nix_const, rhyming_phones))\n",
    "        filtered_lines.append(filtered)\n",
    "        for f in filtered:\n",
    "            bank[f] += 1    \n",
    "    found_rhymes = []\n",
    "    for pl in filtered_lines:\n",
    "        found_rhymes.append([bank[w] > 1 and ' ' in w for w in pl])\n",
    "    if i == 0 or i == len(processed) - 1:\n",
    "        found.append(found_rhymes[0])\n",
    "    else:\n",
    "        found.append(found_rhymes[1])\n",
    "finished = [list(zip(found[i], processed[i])) for i in range(len(found))]\n",
    "finished[5]"
   ]
  },
  {
   "cell_type": "code",
   "execution_count": null,
   "metadata": {},
   "outputs": [],
   "source": [
    "from IPython.core.display import display, HTML\n",
    "buff = ''\n",
    "for line in finished:\n",
    "    buff += '<br>'\n",
    "    for rhymes, word in line:\n",
    "        if rhymes:\n",
    "            buff += '<b>{} </b>'.format(word)\n",
    "        else:\n",
    "            buff += word + ' '\n",
    "    buff += '</br>'\n",
    "display(HTML(buff))"
   ]
  },
  {
   "cell_type": "code",
   "execution_count": null,
   "metadata": {},
   "outputs": [],
   "source": [
    "for line in lyric:\n",
    "    padded = [pad_brick(b) for b in syllabize(line)]\n",
    "    transposed = list(map(list, zip(*padded)))\n",
    "    print('\\n'.join([' '.join(t) for t in transposed]))\n",
    "    print()"
   ]
  },
  {
   "cell_type": "code",
   "execution_count": null,
   "metadata": {},
   "outputs": [],
   "source": [
    "import g2p_en as g2p\n"
   ]
  },
  {
   "cell_type": "code",
   "execution_count": null,
   "metadata": {},
   "outputs": [],
   "source": []
  },
  {
   "cell_type": "code",
   "execution_count": null,
   "metadata": {},
   "outputs": [],
   "source": []
  },
  {
   "cell_type": "code",
   "execution_count": null,
   "metadata": {},
   "outputs": [],
   "source": []
  }
 ],
 "metadata": {
  "kernelspec": {
   "display_name": "Python 3",
   "language": "python",
   "name": "python3"
  },
  "language_info": {
   "codemirror_mode": {
    "name": "ipython",
    "version": 3
   },
   "file_extension": ".py",
   "mimetype": "text/x-python",
   "name": "python",
   "nbconvert_exporter": "python",
   "pygments_lexer": "ipython3",
   "version": "3.6.0"
  }
 },
 "nbformat": 4,
 "nbformat_minor": 2
}
