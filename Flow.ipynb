{
 "cells": [
  {
   "cell_type": "markdown",
   "metadata": {},
   "source": [
    "# Mapping Flow"
   ]
  },
  {
   "cell_type": "code",
   "execution_count": 1,
   "metadata": {},
   "outputs": [
    {
     "name": "stdout",
     "output_type": "stream",
     "text": [
      "Eminem-and-dj-buttafingaz.mpk\r\n",
      "Eminem-ft-logic-joyner-lucas-nitin-randhawa-remix.mpk\r\n",
      "Eminem.mpk\r\n",
      "Eminem-x-proof.mpk\r\n"
     ]
    }
   ],
   "source": [
    "!ls lyrics_consolidated/ | grep Eminem"
   ]
  },
  {
   "cell_type": "code",
   "execution_count": 2,
   "metadata": {
    "scrolled": true
   },
   "outputs": [],
   "source": [
    "import msgpack\n",
    "from random import choice\n",
    "from pprint import pprint as pp\n",
    "\n",
    "lyric = ''\n",
    "with open('lyrics_consolidated/Eminem.mpk', 'rb') as lyric:\n",
    "    corp = msgpack.unpack(lyric, encoding='utf-8')\n",
    "    lyric = corp[choice(list(corp))]['lyrics']"
   ]
  },
  {
   "cell_type": "code",
   "execution_count": 35,
   "metadata": {},
   "outputs": [],
   "source": [
    "lyric = '''[Intro]\n",
    "De-de-de-de-de-de-de-de-deko\n",
    "OG Parker\n",
    "\n",
    "[Chorus: Quavo]\n",
    "Pop a perky just to start up (pop it, pop it)\n",
    "Pop two cups of purple just to warm up (two cups, drank)\n",
    "I heard your bitch, she got that water\n",
    "(Splash, drip, drip, woo, splash, aye)\n",
    "Slippery (wow), 'scuse me, please me (please)\n",
    "Arm up (up), oh, believe me, believe me (believe me)\n",
    "Get beat (beat), 'cause I'm flexin' 'Rari's (skrt)\n",
    "You can bet on me (skr, skr, hey, hey, hey)\n",
    "\n",
    "[Verse 1: Quavo]\n",
    "Tater tot, fuck niggas on my radar watch (watchin')\n",
    "Crocodile hunter, turn 'em to some gator shots (urr)\n",
    "Iced out watch (ice) ridin' round, ten o'clock (ten)\n",
    "Ridin' round, geeked up, damn, think it's three o'clock (three)\n",
    "Four o'clock (four) five o'clock, six o'clock (five)\n",
    "I'm gon' pop, if I don't, I'm back to the pot (whip)\n",
    "I got rocks (rocks) big bales, big arms\n",
    "Tommy gun (prr), come out and play, let's have fun (yeah)\n",
    "Big scales (scales) fish scale, big weight (fish)\n",
    "Iceberg (ice) ice tray, ice tray (woo)\n",
    "Plug called (called) tried to front, I don't need it (brrt)\n",
    "I don't need it (brrt) pockets strong, wrist anemic (strong)\n",
    "Get freezy (freezy) young nigga pay your debt-is (debt-is)\n",
    "Grandma (grandma) auntie Ab and auntie Neesa (Neesa)\n",
    "Uncle Bo (Bo), auntie Greta serve ya perkys (Greta)\n",
    "Auntie Eva, if she got a pound, she might just serve it (serve)\n",
    "\n",
    "[Chorus: Quavo]\n",
    "Pop a perky just to start up (pop it, pop it)\n",
    "Pop two cups of purple just to warm up (two cups, drank)\n",
    "I heard your bitch, she got that water\n",
    "(Splash, drip, drip, woo, splash, aye)\n",
    "Slippery (wow), 'scuse me, please me (please)\n",
    "Arm up (up), oh, believe me, believe me (believe me)\n",
    "Get beat (beat), 'cause I'm flexin' 'Rari's (skrt)\n",
    "You can bet on me (skr, skr, hey, hey, hey)\n",
    "\n",
    "[Verse 2: Offset]\n",
    "Offset!\n",
    "Slippery (slip'), she numbin' me, that tongue on me (eghhh)\n",
    "Honestly (honest) she fuck with me, your wife to be (wife)\n",
    "In Italy, bought her a fur, look like the wildebeest (wrarr)\n",
    "Just chill with me (chill)\n",
    "It is no worry, it is a bill to me (it ain't nothin')\n",
    "I pull up Diablo, I pull up with models\n",
    "I gave her her first Philippe (Philippe)\n",
    "We goin' full throttle, she swallowed the bottle\n",
    "I'm all in her ovaries (eghhh)\n",
    "I gave her some dollars\n",
    "I Gucci'd her collar, now she can't get over me (hey)\n",
    "She want a dose of me (dose)\n",
    "Just hop in the Ghost with me (Ghost)\n",
    "Perky and molly, don't vote for nobody\n",
    "These bitch ass niggas ain't solid (solid)\n",
    "Run in your house and with pumps and the shotties\n",
    "Your mama might be up inside it (bah)\n",
    "Cars robotic, bad bitch with a body\n",
    "But really don't care nothing about it (uh-uh)\n",
    "Cappin' and poppin', I seen that lil' Masi\n",
    "I coulda pulled up and just shot ya (brrt)\n",
    "It's a jungle, I let 'em survive (survive)\n",
    "\n",
    "[Chorus: Quavo]\n",
    "Pop a perky just to start up (pop it, pop it)\n",
    "Pop two cups of purple just to warm up (two cups, drank)\n",
    "I heard your bitch, she got that water\n",
    "(Splash, drip, drip, woo, splash, go aye)\n",
    "Slippery, 'scuse me, please me (please)\n",
    "Arm up, oh, believe me, believe me (believe me)\n",
    "Get beat (beat), 'cause I'm flexin' 'Rari's (skrt)\n",
    "You can bet on me (skr, skr, hey, hey, hey)\n",
    "\n",
    "[Verse 3: Gucci Mane]\n",
    "I rock water, diamonds, I'm drippin' but not slippin'\n",
    "I threw a quarter (well damn) but nawl, I'm not trippin'\n",
    "Bugatti on Forgis, and nawl, I'm not crippin'\n",
    "I buy Ferraris like Jordans, I'm Mike and y'all Pippen\n",
    "Chillin', just me and my millions\n",
    "Niggas, they all in they feelin's\n",
    "My bitches, I spoil them like they chillens\n",
    "So persistent, if I want it, I go get it\n",
    "I'm so slimy, grimy, shiesty but still shinin'\n",
    "Rude and unkindly, cruel with no conscience\n",
    "Drop the top on College, nigga, I ain't with no-nonsense\n",
    "And I'm a murderer, nigga, but I don't promote violence\n",
    "\n",
    "[Verse 4: Takeoff]\n",
    "Dead shot (brrt) AK make your head rock (brrt)\n",
    "Red dot (pewpew), retro Air Jord' deadstock (-stock)\n",
    "Lean on rocks (Act) perkys, mollies, xannies, rocks (roxies)\n",
    "Oxycontin (oxyies) Takeoff, I'm your med doc (Takeoff!)\n",
    "Leg lock (leg) the key I got unlock the box (box)\n",
    "What's in that box (huh?). Don't tell 'em, they might show the cops (shh)\n",
    "Wristwatch (bite) abnormal so I flood the clock (ice)\n",
    "Money flop, panties drop, that's when them titties pop (woo)\n",
    "Free my partners (John Wick)\n",
    "'Til they free it's fuck the cops (fuck 'em)\n",
    "They know I geek a lot\n",
    "They don't know I keep a Glock (clueless)\n",
    "Ain't been no drought (where)\n",
    "They think I been sleep a lot\n",
    "They think I'm dumb (dumb)\n",
    "They don't know I see the plot (see it)\n",
    "Fuck it I seize a knot\n",
    "\n",
    "[Chorus: Quavo]\n",
    "Pop a perky just to start up (pop it, pop it)\n",
    "Pop two cups of purple just to warm up (two cups, drank)\n",
    "I heard your bitch, she got that water\n",
    "(Splash, drip, drip, woo, splash, aye)\n",
    "Slippery (wow), 'scuse me, please me (please)\n",
    "Arm up (up), oh, believe me, believe me (believe me)\n",
    "Get beat (beat), 'cause I'm flexin' 'Rari's (skrt)\n",
    "You can bet on me (skr, skr, hey, hey, hey)'''.split('\\n')"
   ]
  },
  {
   "cell_type": "code",
   "execution_count": 47,
   "metadata": {},
   "outputs": [],
   "source": [
    "def get_phones(text, stress=False):\n",
    "    if isinstance(text, str):\n",
    "        text = [text]\n",
    "    phoned = []\n",
    "    for word in text:\n",
    "        phones = pronouncing.phones_for_word(word)        \n",
    "        # lots of words in genius are listed as being\n",
    "        # pronounced as 'in' instead of the formal\n",
    "        # 'ing' spelling that is in the cmu data\n",
    "        # and needs modification to correct\n",
    "        if not phones and re.search('in\\'?$', word):\n",
    "            subbed = re.sub(r'in\\'?', 'ing', word)\n",
    "            with_g = pronouncing.phones_for_word(subbed)\n",
    "            if with_g:\n",
    "                # convert the 'ng' phenomes to 'n'\n",
    "                without_g = re.sub(r'(?<=IH\\d) (NG)$', ' N', with_g[0])\n",
    "                phones = without_g\n",
    "        # some words start with an apostraphy and might not\n",
    "        # be listed in the cmu as such\n",
    "        elif not phones and re.search(\"^['`‘]\", word):\n",
    "            without_apo = pronouncing.phones_for_word(word[1:])\n",
    "            if without_apo:\n",
    "                phones = without_apo[0]\n",
    "        # we don't need nested lists\n",
    "        elif phones:\n",
    "            phones = phones[0]\n",
    "        # fallback to just the word if not found in cmu\n",
    "        else:\n",
    "            phones = word\n",
    "        # the numbers after a phenome are useful for determining\n",
    "        # stresses and syllables within words, but aren't that\n",
    "        # useful for comparing sounds themselves (rhymes)\n",
    "        if not stress and phones:\n",
    "            phones = re.sub('\\d*', '', phones)\n",
    "        phoned.append(phones)\n",
    "    return phoned"
   ]
  },
  {
   "cell_type": "code",
   "execution_count": 48,
   "metadata": {},
   "outputs": [],
   "source": [
    "import re\n",
    "from colorama import Fore, Style\n",
    "import pronouncing\n",
    "\n",
    "def red_if_not_found(word):\n",
    "    # color words not found in the cmu as red for further review\n",
    "    # of pre-processing steps\n",
    "    if get_phones(word)[0] == word:\n",
    "        return Fore.RED + word + Fore.BLACK\n",
    "    return word\n",
    "\n",
    "def process_line(line):\n",
    "    words = []\n",
    "    # remove adlibs\n",
    "    line = re.sub('\\(.+?\\)', '', line)\n",
    "    for word in re.split('[ ,]', line):\n",
    "        # strip out lots of characters we don't want for our\n",
    "        # word analysis, but keep apostrophies\n",
    "        stripped = re.sub(r\"(^'|'$|[;\\?\\!\\n \\t\\\"\\:]|\\.+)+\", '', word)\n",
    "        # convert a hyphenated word into multiple words\n",
    "        words += re.split(r\"[-–]\", stripped)\n",
    "    no_blanks = list(filter(None, words))\n",
    "    return no_blanks\n",
    "\n",
    "def colorize_lyrics(lyrics, colorizer=None):\n",
    "    lines_of_color = []\n",
    "    for line in lyrics:\n",
    "        cl = []\n",
    "        # filter out song block headers that can span multiple lines\n",
    "        opened = re.search('^\\[', line)\n",
    "        closed = re.search('\\]$', line)\n",
    "        if opened:\n",
    "            bracket_open = True\n",
    "        if bracket_open:\n",
    "            if closed:\n",
    "                bracket_open = False\n",
    "            continue\n",
    "        # split words delimited by either spaces or commas\n",
    "        for word in process_line(line):\n",
    "            if colorizer:\n",
    "                word = colorizer(word)\n",
    "            cl.append(word)\n",
    "        lines_of_color.append(' '.join(cl))\n",
    "    return lines_of_color"
   ]
  },
  {
   "cell_type": "code",
   "execution_count": 49,
   "metadata": {
    "scrolled": false
   },
   "outputs": [
    {
     "name": "stdout",
     "output_type": "stream",
     "text": [
      "De de de de de de de de \u001b[31mdeko\u001b[30m\n",
      "OG Parker\n",
      "\n",
      "Pop a perky just to start up\n",
      "Pop two cups of purple just to warm up\n",
      "I heard your bitch she got that water\n",
      "\n",
      "Slippery \u001b[31mscuse\u001b[30m me please me\n",
      "Arm up oh believe me believe me\n",
      "Get beat cause I'm flexin \u001b[31mRari's\u001b[30m\n",
      "You can bet on me\n",
      "\n",
      "Tater tot fuck \u001b[31mniggas\u001b[30m on my radar watch\n",
      "Crocodile hunter turn em to some gator shots\n",
      "Iced out watch ridin round ten o'clock\n",
      "Ridin round \u001b[31mgeeked\u001b[30m up damn think it's three o'clock\n",
      "Four o'clock five o'clock six o'clock\n",
      "I'm \u001b[31mgon\u001b[30m pop if I don't I'm back to the pot\n",
      "I got rocks big bales big arms\n",
      "Tommy gun come out and play let's have fun\n",
      "Big scales fish scale big weight\n",
      "Iceberg ice tray ice tray\n",
      "Plug called tried to front I don't need it\n",
      "I don't need it pockets strong wrist anemic\n",
      "Get \u001b[31mfreezy\u001b[30m young \u001b[31mnigga\u001b[30m pay your debt is\n",
      "Grandma auntie Ab and auntie \u001b[31mNeesa\u001b[30m\n",
      "Uncle Bo auntie Greta serve ya \u001b[31mperkys\u001b[30m\n",
      "Auntie Eva if she got a pound she might just serve it\n",
      "\n",
      "Pop a perky just to start up\n",
      "Pop two cups of purple just to warm up\n",
      "I heard your bitch she got that water\n",
      "\n",
      "Slippery \u001b[31mscuse\u001b[30m me please me\n",
      "Arm up oh believe me believe me\n",
      "Get beat cause I'm flexin \u001b[31mRari's\u001b[30m\n",
      "You can bet on me\n",
      "\n",
      "Offset\n",
      "Slippery she numbin me that tongue on me\n",
      "Honestly she fuck with me your wife to be\n",
      "In Italy bought her a fur look like the \u001b[31mwildebeest\u001b[30m\n",
      "Just chill with me\n",
      "It is no worry it is a bill to me\n",
      "I pull up Diablo I pull up with models\n",
      "I gave her her first Philippe\n",
      "We goin full throttle she swallowed the bottle\n",
      "I'm all in her ovaries\n",
      "I gave her some dollars\n",
      "I \u001b[31mGucci'd\u001b[30m her collar now she can't get over me\n",
      "She want a dose of me\n",
      "Just hop in the Ghost with me\n",
      "Perky and molly don't vote for nobody\n",
      "These bitch ass \u001b[31mniggas\u001b[30m ain't solid\n",
      "Run in your house and with pumps and the \u001b[31mshotties\u001b[30m\n",
      "Your mama might be up inside it\n",
      "Cars robotic bad bitch with a body\n",
      "But really don't care nothing about it\n",
      "Cappin and poppin I seen that lil Masi\n",
      "I \u001b[31mcoulda\u001b[30m pulled up and just shot ya\n",
      "It's a jungle I let em survive\n",
      "\n",
      "Pop a perky just to start up\n",
      "Pop two cups of purple just to warm up\n",
      "I heard your bitch she got that water\n",
      "\n",
      "Slippery \u001b[31mscuse\u001b[30m me please me\n",
      "Arm up oh believe me believe me\n",
      "Get beat cause I'm flexin \u001b[31mRari's\u001b[30m\n",
      "You can bet on me\n",
      "\n",
      "I rock water diamonds I'm drippin but not slippin\n",
      "I threw a quarter but \u001b[31mnawl\u001b[30m I'm not trippin\n",
      "Bugatti on \u001b[31mForgis\u001b[30m and \u001b[31mnawl\u001b[30m I'm not crippin\n",
      "I buy Ferraris like Jordans I'm Mike and y'all Pippen\n",
      "Chillin just me and my millions\n",
      "\u001b[31mNiggas\u001b[30m they all in they \u001b[31mfeelin's\u001b[30m\n",
      "My bitches I spoil them like they \u001b[31mchillens\u001b[30m\n",
      "So persistent if I want it I go get it\n",
      "I'm so slimy grimy \u001b[31mshiesty\u001b[30m but still shinin\n",
      "Rude and \u001b[31munkindly\u001b[30m cruel with no conscience\n",
      "Drop the top on College \u001b[31mnigga\u001b[30m I ain't with no nonsense\n",
      "And I'm a murderer \u001b[31mnigga\u001b[30m but I don't promote violence\n",
      "\n",
      "Dead shot \u001b[31mAK\u001b[30m make your head rock\n",
      "Red dot retro Air \u001b[31mJord\u001b[30m \u001b[31mdeadstock\u001b[30m\n",
      "Lean on rocks \u001b[31mperkys\u001b[30m \u001b[31mmollies\u001b[30m \u001b[31mxannies\u001b[30m rocks\n",
      "Oxycontin Takeoff I'm your med doc\n",
      "Leg lock the key I got unlock the box\n",
      "What's in that box Don't tell em they might show the cops\n",
      "Wristwatch abnormal so I flood the clock\n",
      "Money flop panties drop that's when them \u001b[31mtitties\u001b[30m pop\n",
      "Free my partners\n",
      "Til they free it's fuck the cops\n",
      "They know I geek a lot\n",
      "They don't know I keep a Glock\n",
      "Ain't been no drought\n",
      "They think I been sleep a lot\n",
      "They think I'm dumb\n",
      "They don't know I see the plot\n",
      "Fuck it I seize a knot\n",
      "\n",
      "Pop a perky just to start up\n",
      "Pop two cups of purple just to warm up\n",
      "I heard your bitch she got that water\n",
      "\n",
      "Slippery \u001b[31mscuse\u001b[30m me please me\n",
      "Arm up oh believe me believe me\n",
      "Get beat cause I'm flexin \u001b[31mRari's\u001b[30m\n",
      "You can bet on me\n"
     ]
    }
   ],
   "source": [
    "lines_of_color = colorize_lyrics(lyric, colorizer=red_if_not_found)\n",
    "for line in lines_of_color:\n",
    "    print(line)"
   ]
  },
  {
   "cell_type": "code",
   "execution_count": 50,
   "metadata": {},
   "outputs": [
    {
     "data": {
      "text/html": [
       "<br>IH2 M IY1 D IY2 AH0 T L IY0</br>\n",
       "<br>M IY1</br>\n",
       "<br>M IY1</br>\n",
       "<br>B EY1 B IY0</br>\n",
       "<br>S IY1</br>"
      ],
      "text/plain": [
       "<IPython.core.display.HTML object>"
      ]
     },
     "metadata": {},
     "output_type": "display_data"
    }
   ],
   "source": [
    "g = get_phones\n",
    "lines = '''And answer me immediately\n",
    "I just wanna be there for you and you to be there for me\n",
    "If you agree to repeat after me\n",
    "I love you I love you baby\n",
    "‘Cause I just need you to see'''\n",
    "lines = lines.split('\\n')\n",
    "lines_colored = [g(l.split(' '), stress=True)[-1] for l in lines]\n",
    "\n",
    "display(HTML('\\n'.join(['<br>{}</br>'.format(l) for l in lines_colored])))"
   ]
  },
  {
   "cell_type": "code",
   "execution_count": 51,
   "metadata": {},
   "outputs": [
    {
     "data": {
      "text/html": [
       "<h1>Hello, world!</h1>"
      ],
      "text/plain": [
       "<IPython.core.display.HTML object>"
      ]
     },
     "metadata": {},
     "output_type": "display_data"
    }
   ],
   "source": [
    "from IPython.core.display import display, HTML\n",
    "display(HTML('<h1>Hello, world!</h1>'))"
   ]
  },
  {
   "cell_type": "code",
   "execution_count": 52,
   "metadata": {},
   "outputs": [
    {
     "data": {
      "text/plain": [
       "['M IH L Y AH N']"
      ]
     },
     "execution_count": 52,
     "metadata": {},
     "output_type": "execute_result"
    }
   ],
   "source": [
    "get_phones('million')"
   ]
  },
  {
   "cell_type": "code",
   "execution_count": 61,
   "metadata": {},
   "outputs": [],
   "source": [
    "def syllabize(line):\n",
    "    buff = ''\n",
    "    for word in process_line(line):\n",
    "        phones = get_phones(word, stress=True)[0]\n",
    "        count = pronouncing.syllable_count(phones)\n",
    "        padded = str(count).ljust(len(word) + 1, ' ')\n",
    "        buff += padded\n",
    "    return buff"
   ]
  },
  {
   "cell_type": "code",
   "execution_count": 63,
   "metadata": {},
   "outputs": [
    {
     "name": "stdout",
     "output_type": "stream",
     "text": [
      "Arm up oh believe me believe me\n",
      "1   1  1  2       1  2       1  \n",
      "Get beat cause I'm flexin Rari's\n",
      "1   1    1     1   2      0      \n",
      "You can bet on me\n",
      "1   1   1   1  1  \n",
      "\n",
      "\n",
      "[Verse 1 Quavo]\n",
      "0      1 0      \n",
      "Tater tot fuck niggas on my radar watch\n",
      "2     1   1    0      1  1  2     1     \n",
      "Crocodile hunter turn em to some gator shots\n",
      "3         2      1    1  1  1    2     1     \n",
      "Iced out watch ridin round ten o'clock\n",
      "1    1   1     2     1     1   2       \n",
      "Ridin round geeked up damn think it's three o'clock\n",
      "2     1     0      1  1    1     1    1     2       \n",
      "Four o'clock five o'clock six o'clock\n",
      "1    2       1    2       1   2       \n"
     ]
    }
   ],
   "source": [
    "for line in lyric[10:20]:\n",
    "    print(' '.join(process_line(line)))\n",
    "    print(syllabize(line))"
   ]
  },
  {
   "cell_type": "code",
   "execution_count": null,
   "metadata": {},
   "outputs": [],
   "source": []
  }
 ],
 "metadata": {
  "kernelspec": {
   "display_name": "Python 3",
   "language": "python",
   "name": "python3"
  },
  "language_info": {
   "codemirror_mode": {
    "name": "ipython",
    "version": 3
   },
   "file_extension": ".py",
   "mimetype": "text/x-python",
   "name": "python",
   "nbconvert_exporter": "python",
   "pygments_lexer": "ipython3",
   "version": "3.6.4"
  }
 },
 "nbformat": 4,
 "nbformat_minor": 2
}
